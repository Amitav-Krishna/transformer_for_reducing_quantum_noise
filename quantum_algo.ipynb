{
 "cells": [
  {
   "cell_type": "markdown",
   "id": "7c163189-e41a-4224-a538-3baa8961c095",
   "metadata": {},
   "source": [
    "# Initialization"
   ]
  },
  {
   "cell_type": "code",
   "execution_count": 1,
   "id": "66100fd2-4e99-4b61-9e8a-fe927d17af2e",
   "metadata": {
    "collapsed": true,
    "jupyter": {
     "outputs_hidden": true
    }
   },
   "outputs": [
    {
     "name": "stdout",
     "output_type": "stream",
     "text": [
      "Defaulting to user installation because normal site-packages is not writeable\n",
      "Requirement already satisfied: numpy in /usr/lib64/python3.13/site-packages (2.2.6)\n",
      "Requirement already satisfied: qiskit in /home/amitav/.local/lib/python3.13/site-packages (2.2.1)\n",
      "Requirement already satisfied: torch in /home/amitav/.local/lib/python3.13/site-packages (2.9.0)\n",
      "Requirement already satisfied: matplotlib in /usr/lib64/python3.13/site-packages (3.10.6)\n",
      "Requirement already satisfied: tqdm in /home/amitav/.local/lib/python3.13/site-packages (4.67.1)\n",
      "Requirement already satisfied: torchvision in /home/amitav/.local/lib/python3.13/site-packages (0.24.0)\n",
      "Collecting cirq\n",
      "  Downloading cirq-1.6.1-py3-none-any.whl.metadata (16 kB)\n",
      "Requirement already satisfied: rustworkx>=0.15.0 in /home/amitav/.local/lib/python3.13/site-packages (from qiskit) (0.17.1)\n",
      "Requirement already satisfied: scipy>=1.5 in /usr/lib64/python3.13/site-packages (from qiskit) (1.14.1)\n",
      "Requirement already satisfied: dill>=0.3 in /home/amitav/.local/lib/python3.13/site-packages (from qiskit) (0.4.0)\n",
      "Requirement already satisfied: stevedore>=3.0.0 in /home/amitav/.local/lib/python3.13/site-packages (from qiskit) (5.5.0)\n",
      "Requirement already satisfied: typing-extensions in /usr/lib/python3.13/site-packages (from qiskit) (4.12.2)\n",
      "Requirement already satisfied: filelock in /home/amitav/.local/lib/python3.13/site-packages (from torch) (3.20.0)\n",
      "Requirement already satisfied: setuptools in /usr/lib/python3.13/site-packages (from torch) (74.1.3)\n",
      "Requirement already satisfied: sympy>=1.13.3 in /home/amitav/.local/lib/python3.13/site-packages (from torch) (1.14.0)\n",
      "Requirement already satisfied: networkx>=2.5.1 in /home/amitav/.local/lib/python3.13/site-packages (from torch) (3.5)\n",
      "Requirement already satisfied: jinja2 in /usr/lib/python3.13/site-packages (from torch) (3.1.6)\n",
      "Requirement already satisfied: fsspec>=0.8.5 in /home/amitav/.local/lib/python3.13/site-packages (from torch) (2025.9.0)\n",
      "Requirement already satisfied: nvidia-cuda-nvrtc-cu12==12.8.93 in /home/amitav/.local/lib/python3.13/site-packages (from torch) (12.8.93)\n",
      "Requirement already satisfied: nvidia-cuda-runtime-cu12==12.8.90 in /home/amitav/.local/lib/python3.13/site-packages (from torch) (12.8.90)\n",
      "Requirement already satisfied: nvidia-cuda-cupti-cu12==12.8.90 in /home/amitav/.local/lib/python3.13/site-packages (from torch) (12.8.90)\n",
      "Requirement already satisfied: nvidia-cudnn-cu12==9.10.2.21 in /home/amitav/.local/lib/python3.13/site-packages (from torch) (9.10.2.21)\n",
      "Requirement already satisfied: nvidia-cublas-cu12==12.8.4.1 in /home/amitav/.local/lib/python3.13/site-packages (from torch) (12.8.4.1)\n",
      "Requirement already satisfied: nvidia-cufft-cu12==11.3.3.83 in /home/amitav/.local/lib/python3.13/site-packages (from torch) (11.3.3.83)\n",
      "Requirement already satisfied: nvidia-curand-cu12==10.3.9.90 in /home/amitav/.local/lib/python3.13/site-packages (from torch) (10.3.9.90)\n",
      "Requirement already satisfied: nvidia-cusolver-cu12==11.7.3.90 in /home/amitav/.local/lib/python3.13/site-packages (from torch) (11.7.3.90)\n",
      "Requirement already satisfied: nvidia-cusparse-cu12==12.5.8.93 in /home/amitav/.local/lib/python3.13/site-packages (from torch) (12.5.8.93)\n",
      "Requirement already satisfied: nvidia-cusparselt-cu12==0.7.1 in /home/amitav/.local/lib/python3.13/site-packages (from torch) (0.7.1)\n",
      "Requirement already satisfied: nvidia-nccl-cu12==2.27.5 in /home/amitav/.local/lib/python3.13/site-packages (from torch) (2.27.5)\n",
      "Requirement already satisfied: nvidia-nvshmem-cu12==3.3.20 in /home/amitav/.local/lib/python3.13/site-packages (from torch) (3.3.20)\n",
      "Requirement already satisfied: nvidia-nvtx-cu12==12.8.90 in /home/amitav/.local/lib/python3.13/site-packages (from torch) (12.8.90)\n",
      "Requirement already satisfied: nvidia-nvjitlink-cu12==12.8.93 in /home/amitav/.local/lib/python3.13/site-packages (from torch) (12.8.93)\n",
      "Requirement already satisfied: nvidia-cufile-cu12==1.13.1.3 in /home/amitav/.local/lib/python3.13/site-packages (from torch) (1.13.1.3)\n",
      "Requirement already satisfied: triton==3.5.0 in /home/amitav/.local/lib/python3.13/site-packages (from torch) (3.5.0)\n",
      "Requirement already satisfied: contourpy>=1.0.1 in /usr/lib64/python3.13/site-packages (from matplotlib) (1.3.3)\n",
      "Requirement already satisfied: cycler>=0.10 in /usr/lib/python3.13/site-packages (from matplotlib) (0.11.0)\n",
      "Requirement already satisfied: fonttools>=4.22.0 in /usr/lib64/python3.13/site-packages (from matplotlib) (4.56.0)\n",
      "Requirement already satisfied: kiwisolver>=1.3.1 in /usr/lib64/python3.13/site-packages (from matplotlib) (1.4.9)\n",
      "Requirement already satisfied: packaging>=20.0 in /usr/lib/python3.13/site-packages (from matplotlib) (24.2)\n",
      "Requirement already satisfied: pillow>=8 in /usr/lib64/python3.13/site-packages (from matplotlib) (11.1.0)\n",
      "Requirement already satisfied: pyparsing>=2.3.1 in /usr/lib/python3.13/site-packages (from matplotlib) (3.1.2)\n",
      "Requirement already satisfied: python-dateutil>=2.7 in /usr/lib/python3.13/site-packages (from matplotlib) (2.8.2)\n",
      "Collecting cirq-aqt==1.6.1 (from cirq)\n",
      "  Downloading cirq_aqt-1.6.1-py3-none-any.whl.metadata (4.7 kB)\n",
      "Collecting cirq-core==1.6.1 (from cirq)\n",
      "  Downloading cirq_core-1.6.1-py3-none-any.whl.metadata (4.8 kB)\n",
      "Collecting cirq-google==1.6.1 (from cirq)\n",
      "  Downloading cirq_google-1.6.1-py3-none-any.whl.metadata (4.9 kB)\n",
      "Collecting cirq-ionq==1.6.1 (from cirq)\n",
      "  Downloading cirq_ionq-1.6.1-py3-none-any.whl.metadata (4.7 kB)\n",
      "Collecting cirq-pasqal==1.6.1 (from cirq)\n",
      "  Downloading cirq_pasqal-1.6.1-py3-none-any.whl.metadata (4.7 kB)\n",
      "Collecting cirq-web==1.6.1 (from cirq)\n",
      "  Downloading cirq_web-1.6.1-py3-none-any.whl.metadata (5.4 kB)\n",
      "Requirement already satisfied: requests~=2.32 in /usr/lib/python3.13/site-packages (from cirq-aqt==1.6.1->cirq) (2.32.4)\n",
      "Requirement already satisfied: attrs>=21.3.0 in /usr/lib/python3.13/site-packages (from cirq-core==1.6.1->cirq) (25.1.0)\n",
      "Collecting duet>=0.2.8 (from cirq-core==1.6.1->cirq)\n",
      "  Downloading duet-0.2.9-py3-none-any.whl.metadata (2.3 kB)\n",
      "Requirement already satisfied: pandas~=2.1 in /usr/lib64/python3.13/site-packages (from cirq-core==1.6.1->cirq) (2.2.3)\n",
      "Collecting sortedcontainers~=2.0 (from cirq-core==1.6.1->cirq)\n",
      "  Downloading sortedcontainers-2.4.0-py2.py3-none-any.whl.metadata (10 kB)\n",
      "Collecting google-api-core~=2.22 (from google-api-core[grpc]~=2.22->cirq-google==1.6.1->cirq)\n",
      "  Downloading google_api_core-2.26.0-py3-none-any.whl.metadata (3.2 kB)\n",
      "Collecting proto-plus~=1.25 (from cirq-google==1.6.1->cirq)\n",
      "  Downloading proto_plus-1.26.1-py3-none-any.whl.metadata (2.2 kB)\n",
      "Collecting protobuf<6.0dev,>=5.26.1 (from cirq-google==1.6.1->cirq)\n",
      "  Downloading protobuf-5.29.5-cp38-abi3-manylinux2014_x86_64.whl.metadata (592 bytes)\n",
      "Collecting typedunits (from cirq-google==1.6.1->cirq)\n",
      "  Downloading typedunits-0.0.1-cp313-cp313-manylinux2014_x86_64.manylinux_2_17_x86_64.manylinux_2_28_x86_64.whl.metadata (4.9 kB)\n",
      "Requirement already satisfied: six>=1.5 in /usr/lib/python3.13/site-packages (from python-dateutil>=2.7->matplotlib) (1.17.0)\n",
      "Requirement already satisfied: mpmath<1.4,>=1.1.0 in /home/amitav/.local/lib/python3.13/site-packages (from sympy>=1.13.3->torch) (1.3.0)\n",
      "Requirement already satisfied: MarkupSafe>=2.0 in /usr/lib64/python3.13/site-packages (from jinja2->torch) (3.0.2)\n",
      "Collecting googleapis-common-protos<2.0.0,>=1.56.2 (from google-api-core~=2.22->google-api-core[grpc]~=2.22->cirq-google==1.6.1->cirq)\n",
      "  Downloading googleapis_common_protos-1.70.0-py3-none-any.whl.metadata (9.3 kB)\n",
      "Collecting google-auth<3.0.0,>=2.14.1 (from google-api-core~=2.22->google-api-core[grpc]~=2.22->cirq-google==1.6.1->cirq)\n",
      "  Downloading google_auth-2.41.1-py2.py3-none-any.whl.metadata (6.6 kB)\n",
      "Collecting grpcio<2.0.0,>=1.33.2 (from google-api-core[grpc]~=2.22->cirq-google==1.6.1->cirq)\n",
      "  Downloading grpcio-1.75.1-cp313-cp313-manylinux2014_x86_64.manylinux_2_17_x86_64.whl.metadata (3.7 kB)\n",
      "Collecting grpcio-status<2.0.0,>=1.33.2 (from google-api-core[grpc]~=2.22->cirq-google==1.6.1->cirq)\n",
      "  Downloading grpcio_status-1.75.1-py3-none-any.whl.metadata (1.1 kB)\n",
      "Requirement already satisfied: pytz>=2020.1 in /usr/lib/python3.13/site-packages (from pandas~=2.1->cirq-core==1.6.1->cirq) (2025.2)\n",
      "Requirement already satisfied: charset-normalizer<4,>=2 in /usr/lib/python3.13/site-packages (from requests~=2.32->cirq-aqt==1.6.1->cirq) (3.4.1)\n",
      "Requirement already satisfied: idna<4,>=2.5 in /usr/lib/python3.13/site-packages (from requests~=2.32->cirq-aqt==1.6.1->cirq) (3.10)\n",
      "Requirement already satisfied: urllib3<3,>=1.21.1 in /usr/lib/python3.13/site-packages (from requests~=2.32->cirq-aqt==1.6.1->cirq) (2.3.0)\n",
      "Collecting cython>=3.0.0 (from typedunits->cirq-google==1.6.1->cirq)\n",
      "  Downloading cython-3.1.4-cp313-cp313-manylinux2014_x86_64.manylinux_2_17_x86_64.manylinux_2_28_x86_64.whl.metadata (5.0 kB)\n",
      "Collecting cachetools<7.0,>=2.0.0 (from google-auth<3.0.0,>=2.14.1->google-api-core~=2.22->google-api-core[grpc]~=2.22->cirq-google==1.6.1->cirq)\n",
      "  Downloading cachetools-6.2.1-py3-none-any.whl.metadata (5.5 kB)\n",
      "Collecting pyasn1-modules>=0.2.1 (from google-auth<3.0.0,>=2.14.1->google-api-core~=2.22->google-api-core[grpc]~=2.22->cirq-google==1.6.1->cirq)\n",
      "  Downloading pyasn1_modules-0.4.2-py3-none-any.whl.metadata (3.5 kB)\n",
      "Collecting rsa<5,>=3.1.4 (from google-auth<3.0.0,>=2.14.1->google-api-core~=2.22->google-api-core[grpc]~=2.22->cirq-google==1.6.1->cirq)\n",
      "  Downloading rsa-4.9.1-py3-none-any.whl.metadata (5.6 kB)\n",
      "INFO: pip is looking at multiple versions of grpcio-status to determine which version is compatible with other requirements. This could take a while.\n",
      "Collecting grpcio-status<2.0.0,>=1.33.2 (from google-api-core[grpc]~=2.22->cirq-google==1.6.1->cirq)\n",
      "  Downloading grpcio_status-1.75.0-py3-none-any.whl.metadata (1.1 kB)\n",
      "  Downloading grpcio_status-1.74.0-py3-none-any.whl.metadata (1.1 kB)\n",
      "  Downloading grpcio_status-1.73.1-py3-none-any.whl.metadata (1.1 kB)\n",
      "  Downloading grpcio_status-1.73.0-py3-none-any.whl.metadata (1.1 kB)\n",
      "  Downloading grpcio_status-1.72.2-py3-none-any.whl.metadata (1.1 kB)\n",
      "  Downloading grpcio_status-1.72.1-py3-none-any.whl.metadata (1.1 kB)\n",
      "  Downloading grpcio_status-1.71.2-py3-none-any.whl.metadata (1.1 kB)\n",
      "Collecting pyasn1<0.7.0,>=0.6.1 (from pyasn1-modules>=0.2.1->google-auth<3.0.0,>=2.14.1->google-api-core~=2.22->google-api-core[grpc]~=2.22->cirq-google==1.6.1->cirq)\n",
      "  Downloading pyasn1-0.6.1-py3-none-any.whl.metadata (8.4 kB)\n",
      "Downloading cirq-1.6.1-py3-none-any.whl (11 kB)\n",
      "Downloading cirq_aqt-1.6.1-py3-none-any.whl (32 kB)\n",
      "Downloading cirq_core-1.6.1-py3-none-any.whl (2.0 MB)\n",
      "\u001b[2K   \u001b[38;2;114;156;31m━━━━━━━━━━━━━━━━━━━━━━━━━━━━━━━━━━━━━━━━\u001b[0m \u001b[32m2.0/2.0 MB\u001b[0m \u001b[31m3.3 MB/s\u001b[0m eta \u001b[36m0:00:00\u001b[0m MB/s\u001b[0m eta \u001b[36m0:00:01\u001b[0m:01\u001b[0m\n",
      "\u001b[?25hDownloading cirq_google-1.6.1-py3-none-any.whl (670 kB)\n",
      "\u001b[2K   \u001b[38;2;114;156;31m━━━━━━━━━━━━━━━━━━━━━━━━━━━━━━━━━━━━━━━━\u001b[0m \u001b[32m670.8/670.8 kB\u001b[0m \u001b[31m4.2 MB/s\u001b[0m eta \u001b[36m0:00:00\u001b[0m\n",
      "\u001b[?25hDownloading cirq_ionq-1.6.1-py3-none-any.whl (73 kB)\n",
      "Downloading cirq_pasqal-1.6.1-py3-none-any.whl (33 kB)\n",
      "Downloading cirq_web-1.6.1-py3-none-any.whl (430 kB)\n",
      "Downloading duet-0.2.9-py3-none-any.whl (29 kB)\n",
      "Downloading google_api_core-2.26.0-py3-none-any.whl (162 kB)\n",
      "Downloading proto_plus-1.26.1-py3-none-any.whl (50 kB)\n",
      "Downloading protobuf-5.29.5-cp38-abi3-manylinux2014_x86_64.whl (319 kB)\n",
      "Downloading sortedcontainers-2.4.0-py2.py3-none-any.whl (29 kB)\n",
      "Downloading typedunits-0.0.1-cp313-cp313-manylinux2014_x86_64.manylinux_2_17_x86_64.manylinux_2_28_x86_64.whl (2.7 MB)\n",
      "\u001b[2K   \u001b[38;2;114;156;31m━━━━━━━━━━━━━━━━━━━━━━━━━━━━━━━━━━━━━━━━\u001b[0m \u001b[32m2.7/2.7 MB\u001b[0m \u001b[31m6.2 MB/s\u001b[0m eta \u001b[36m0:00:00\u001b[0m[31m6.8 MB/s\u001b[0m eta \u001b[36m0:00:01\u001b[0m\n",
      "\u001b[?25hDownloading cython-3.1.4-cp313-cp313-manylinux2014_x86_64.manylinux_2_17_x86_64.manylinux_2_28_x86_64.whl (3.3 MB)\n",
      "\u001b[2K   \u001b[38;2;114;156;31m━━━━━━━━━━━━━━━━━━━━━━━━━━━━━━━━━━━━━━━━\u001b[0m \u001b[32m3.3/3.3 MB\u001b[0m \u001b[31m7.7 MB/s\u001b[0m eta \u001b[36m0:00:00\u001b[0m MB/s\u001b[0m eta \u001b[36m0:00:01\u001b[0m\n",
      "\u001b[?25hDownloading google_auth-2.41.1-py2.py3-none-any.whl (221 kB)\n",
      "Downloading googleapis_common_protos-1.70.0-py3-none-any.whl (294 kB)\n",
      "Downloading grpcio-1.75.1-cp313-cp313-manylinux2014_x86_64.manylinux_2_17_x86_64.whl (6.4 MB)\n",
      "\u001b[2K   \u001b[38;2;114;156;31m━━━━━━━━━━━━━━━━━━━━━━━━━━━━━━━━━━━━━━━━\u001b[0m \u001b[32m6.4/6.4 MB\u001b[0m \u001b[31m8.4 MB/s\u001b[0m eta \u001b[36m0:00:00\u001b[0m[31m9.1 MB/s\u001b[0m eta \u001b[36m0:00:01\u001b[0mm\n",
      "\u001b[?25hDownloading grpcio_status-1.71.2-py3-none-any.whl (14 kB)\n",
      "Downloading cachetools-6.2.1-py3-none-any.whl (11 kB)\n",
      "Downloading pyasn1_modules-0.4.2-py3-none-any.whl (181 kB)\n",
      "Downloading rsa-4.9.1-py3-none-any.whl (34 kB)\n",
      "Downloading pyasn1-0.6.1-py3-none-any.whl (83 kB)\n",
      "Installing collected packages: sortedcontainers, pyasn1, protobuf, grpcio, duet, cython, cachetools, typedunits, rsa, pyasn1-modules, proto-plus, googleapis-common-protos, grpcio-status, google-auth, cirq-core, google-api-core, cirq-web, cirq-pasqal, cirq-ionq, cirq-aqt, cirq-google, cirq\n",
      "Successfully installed cachetools-6.2.1 cirq-1.6.1 cirq-aqt-1.6.1 cirq-core-1.6.1 cirq-google-1.6.1 cirq-ionq-1.6.1 cirq-pasqal-1.6.1 cirq-web-1.6.1 cython-3.1.4 duet-0.2.9 google-api-core-2.26.0 google-auth-2.41.1 googleapis-common-protos-1.70.0 grpcio-1.75.1 grpcio-status-1.71.2 proto-plus-1.26.1 protobuf-5.29.5 pyasn1-0.6.1 pyasn1-modules-0.4.2 rsa-4.9.1 sortedcontainers-2.4.0 typedunits-0.0.1\n"
     ]
    }
   ],
   "source": [
    "!pip install numpy qiskit torch matplotlib tqdm torchvision cirq"
   ]
  },
  {
   "cell_type": "code",
   "execution_count": 24,
   "id": "af458edf-b3b0-4cba-94c1-8eb816c83584",
   "metadata": {},
   "outputs": [],
   "source": [
    "import numpy as np\n",
    "import cirq\n",
    "import random\n",
    "\n",
    "SINGLE_QUBIT_GATES = [\"X\", \"Y\", \"Z\", \"H\", \"T\", \"S\", \"rx\", \"ry\", \"rz\"]\n",
    "TWO_QUBIT_GATES = [\"cx\", \"cz\", \"swap\"]"
   ]
  },
  {
   "cell_type": "markdown",
   "id": "6e260fb2-59d6-4057-913f-d358e8f5b4d8",
   "metadata": {},
   "source": [
    "# Quantum circuit simulations"
   ]
  },
  {
   "cell_type": "code",
   "execution_count": 27,
   "id": "39ca0bee-ddb4-419b-bf99-6a3d8ebb9025",
   "metadata": {},
   "outputs": [],
   "source": [
    "def random_circuit(n_qubits: int, depth: float) -> tuple[cirq.Circuit, list[cirq.LineQubit]]:\n",
    "    qubits = cirq.LineQubit.range(n_qubits)\n",
    "    circuit = cirq.Circuit()\n",
    "    for _ in range(depth):\n",
    "        if random.random() < 0.7:\n",
    "            q = random.choice(qubits)\n",
    "            g = random.choice(SINGLE_QUBIT_GATES)\n",
    "            if g in [\"rx\", \"ry\", \"rz\"]:\n",
    "                theta = 2*np.pi*random.random()\n",
    "                circuit.append(getattr(cirq, g)(theta)(q))\n",
    "            else: \n",
    "                circuit.append(getattr(cirq, g)(q))\n",
    "        else:\n",
    "            q1, q2 = random.sample(qubits, 2)\n",
    "            g = random.choice(TWO_QUBIT_GATES)\n",
    "            if g == \"cx\":\n",
    "                circuit.append(cirq.CNOT(q1, q2))\n",
    "            elif g == \"cz\":\n",
    "                circuit.append(cirq.CZ(q1, q2))\n",
    "            elif g == \"swap\":\n",
    "                circuit.append(cirq.SWAP(q1, q2))\n",
    "    return circuit, qubits"
   ]
  },
  {
   "cell_type": "code",
   "execution_count": 17,
   "id": "baf11650-cb60-4f88-98fb-3cba9da3e72b",
   "metadata": {},
   "outputs": [],
   "source": [
    "def add_noise(circuit: cirq.Circuit, qubits: cirq.LineQubit, noise_type: str, p: float) -> cirq.Circuit:\n",
    "    noisy = cirq.Circuit()\n",
    "    kinds = [\"bitflip\", \"depolarizing\", \"amp_damp\", \"phase_damp\"]\n",
    "\n",
    "    for moment in circuit:\n",
    "        noisy += moment\n",
    "        if noise_type == \"mixed\":\n",
    "            kind = random.choice(kinds)\n",
    "        else:\n",
    "            kind = noise_type\n",
    "\n",
    "        if kind == \"bitflip\":\n",
    "            noisy += cirq.bit_flip(p).on_each(*qubits)\n",
    "        elif kind == \"depolarizing\":\n",
    "            noisy += cirq.depolarize(p).on_each(*qubits)\n",
    "        elif kind == \"amp_damp\":\n",
    "            noisy += cirq.amplitude_damp(p).on_each(*qubits)\n",
    "        elif kind == \"phase_damp\":\n",
    "            noisy += cirq.phase_damp(p).on_each(*qubits)\n",
    "\n",
    "    return noisy"
   ]
  },
  {
   "cell_type": "code",
   "execution_count": 18,
   "id": "e5550d3e-4997-4d9c-95e5-b9c42d66c38b",
   "metadata": {},
   "outputs": [],
   "source": [
    "def simulate_density_matrix(circuit):\n",
    "    simulator = cirq.DensityMatrixSimulator()\n",
    "    result = simulator.simulate(circuit)\n",
    "    return result.final_density_matrix"
   ]
  },
  {
   "cell_type": "code",
   "execution_count": 20,
   "id": "74581bc2-8940-492f-8053-124e74a05a40",
   "metadata": {},
   "outputs": [],
   "source": [
    "def generate_dataset(n_samples=1000, n_qubits=3, noise_level=0.05):\n",
    "    X, Y = [], []\n",
    "    for _ in range(n_samples):\n",
    "        circuit, qubits = random_circuit(n_qubits, depth=8)\n",
    "        rho_clean = simulate_density_matrix(circuit)\n",
    "        noisy_circuit = add_noise(circuit, qubits, \"mixed\", noise_level)\n",
    "        rho_noisy = simulate_density_matrix(noisy_circuit)\n",
    "\n",
    "        X.append(np.stack([rho_noisy.real, rho_noisy.imag], axis=-1))\n",
    "        Y.append(np.stack([rho_clean.real, rho_clean.imag], axis=-1))\n",
    "    return np.array(X, dtype=np.float32), np.array(Y, dtype=np.float32)\n"
   ]
  },
  {
   "cell_type": "markdown",
   "id": "b2e610de-a5af-4f35-a56c-f8b72d94a872",
   "metadata": {},
   "source": [
    "# Transformer architecture\n",
    "\n",
    "Papers to reference\n",
    "\n",
    "@misc{kendre2025machinelearningquantumnoise,\n",
    "      title={Machine Learning for Quantum Noise Reduction}, \n",
    "      author={Karan Kendre},\n",
    "      year={2025},\n",
    "      eprint={2509.16242},\n",
    "      archivePrefix={arXiv},\n",
    "      primaryClass={quant-ph},\n",
    "      url={https://arxiv.org/abs/2509.16242},\n",
    "      file=\"./2509.16242v1.pdf\",\n",
    "}\n",
    "\n",
    "@misc{norambuena2023physicsinformedneuralnetworksquantum,\n",
    "      title={Physics-informed neural networks for quantum control}, \n",
    "      author={Ariel Norambuena and Marios Mattheakis and Francisco J. González and Raúl Coto},\n",
    "      year={2023},\n",
    "      eprint={2206.06287},\n",
    "      archivePrefix={arXiv},\n",
    "      primaryClass={quant-ph},\n",
    "      url={https://arxiv.org/abs/2206.06287},\n",
    "      file=\"./2206.06287v2.pdf\",\n",
    "}"
   ]
  },
  {
   "cell_type": "code",
   "execution_count": 33,
   "id": "59bfaeed-0452-40f6-8b30-645aea69d3f9",
   "metadata": {},
   "outputs": [],
   "source": [
    "import torch\n",
    "import torch.nn as nn\n",
    "import torch.nn.functional as F\n",
    "from torch.utils.data import Dataset, DataLoader\n",
    "import numpy as np"
   ]
  },
  {
   "cell_type": "code",
   "execution_count": null,
   "id": "c19a7a66-8f84-4b0a-90ed-a38d709e3b8c",
   "metadata": {},
   "outputs": [],
   "source": [
    "class QuantumDenoisingDataset(Dataset):\n",
    "    def __init__(self, X, Y):\n",
    "        self.X = torch.tensor(X, dtype=torch.float32)\n",
    "        self.Y = torch.tensor(Y, dtype=torch.float32)\n",
    "    def __len__(self):\n",
    "        return len(self.X)\n",
    "    def __getitem__(self, idx):\n",
    "        return self.X[idx].permute(2, 0, 1), self.Y[idx].permute(2, 0, 1)\n",
    "        "
   ]
  },
  {
   "cell_type": "code",
   "execution_count": null,
   "id": "fc46e9c6-7403-48a6-9884-a9d96b25c2e6",
   "metadata": {},
   "outputs": [],
   "source": [
    "# class PatchEmbed\n",
    "# Going to sleep now"
   ]
  },
  {
   "cell_type": "code",
   "execution_count": null,
   "id": "bc7074b2-5869-450e-977e-1d96d962b902",
   "metadata": {},
   "outputs": [],
   "source": []
  },
  {
   "cell_type": "markdown",
   "id": "934875fd-f6af-4080-8bca-a3346ca9351d",
   "metadata": {},
   "source": [
    "# Testing"
   ]
  },
  {
   "cell_type": "code",
   "execution_count": 31,
   "id": "583f817b-e828-4525-9e00-8c7c2031178a",
   "metadata": {
    "scrolled": true
   },
   "outputs": [
    {
     "data": {
      "image/png": "[encoded data removed]",
      "text/plain": [
       "<Figure size 640x480 with 2 Axes>"
      ]
     },
     "metadata": {},
     "output_type": "display_data"
    }
   ],
   "source": [
    "import matplotlib.pyplot as plt\n",
    "\n",
    "X, Y = generate_dataset(n_samples=1, n_qubits=2)\n",
    "plt.subplot(1,2,1)\n",
    "plt.imshow(X[0,:,:,0], cmap='RdBu'); plt.title(\"Noisy (Re)\")\n",
    "plt.subplot(1,2,2)\n",
    "plt.imshow(Y[0,:,:,0], cmap='RdBu'); plt.title(\"Clean (Re)\")\n",
    "plt.show()\n"
   ]
  },
  {
   "cell_type": "code",
   "execution_count": null,
   "id": "d655ca8f-5660-4c6d-ba45-5291f0ab169d",
   "metadata": {},
   "outputs": [],
   "source": []
  }
 ],
 "metadata": {
  "kernelspec": {
   "display_name": "Python 3 (ipykernel)",
   "language": "python",
   "name": "python3"
  },
  "language_info": {
   "codemirror_mode": {
    "name": "ipython",
    "version": 3
   },
   "file_extension": ".py",
   "mimetype": "text/x-python",
   "name": "python",
   "nbconvert_exporter": "python",
   "pygments_lexer": "ipython3",
   "version": "3.13.7"
  }
 },
 "nbformat": 4,
 "nbformat_minor": 5
}
